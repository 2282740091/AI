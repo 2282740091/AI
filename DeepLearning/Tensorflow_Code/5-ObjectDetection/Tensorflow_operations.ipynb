{
 "cells": [
  {
   "cell_type": "code",
   "execution_count": 2,
   "metadata": {
    "collapsed": true
   },
   "outputs": [],
   "source": [
    "import tensorflow as tf\n",
    "import numpy as np"
   ]
  },
  {
   "cell_type": "code",
   "execution_count": 53,
   "metadata": {
    "collapsed": true
   },
   "outputs": [],
   "source": [
    "A = np.array([[[1,2,3],[0.1,0.2,0.3],[0.01,0.02,0.03]],[[11,12,13],[0.11,0.12,0.13],[0.011,0.012,0.013]],[[111,112,113],[0.111,0.112,0.113],[0.0111,0.0112,0.0113]]])\n",
    "B = np.array([[[4,5,6],[0.4,0.5,0.6],[0.04,0.05,0.06]],[[14,15,16],[0.14,0.15,0.16],[0.014,0.015,0.016]],[[114,115,116],[0.114,0.115,0.116],[0.0114,0.0115,0.0116]]])\n",
    "C = np.array([[[7,8,9],[0.7,0.8,0.9],[0.07,0.08,0.09]],[[17,18,19],[0.17,0.18,0.19],[0.017,0.018,0.019]],[[117,118,119],[0.117,0.118,0.119],[0.0117,0.0118,0.0119]]])"
   ]
  },
  {
   "cell_type": "code",
   "execution_count": 54,
   "metadata": {
    "collapsed": false
   },
   "outputs": [
    {
     "data": {
      "text/plain": [
       "array([[[  1.00000000e+00,   2.00000000e+00,   3.00000000e+00],\n",
       "        [  1.00000000e-01,   2.00000000e-01,   3.00000000e-01],\n",
       "        [  1.00000000e-02,   2.00000000e-02,   3.00000000e-02]],\n",
       "\n",
       "       [[  1.10000000e+01,   1.20000000e+01,   1.30000000e+01],\n",
       "        [  1.10000000e-01,   1.20000000e-01,   1.30000000e-01],\n",
       "        [  1.10000000e-02,   1.20000000e-02,   1.30000000e-02]],\n",
       "\n",
       "       [[  1.11000000e+02,   1.12000000e+02,   1.13000000e+02],\n",
       "        [  1.11000000e-01,   1.12000000e-01,   1.13000000e-01],\n",
       "        [  1.11000000e-02,   1.12000000e-02,   1.13000000e-02]]])"
      ]
     },
     "execution_count": 54,
     "metadata": {},
     "output_type": "execute_result"
    }
   ],
   "source": [
    "\"\"\"\n",
    "tf.stack()\n",
    "\n",
    "tf.stack(values, axis=0, name=’stack’)\n",
    "\n",
    "将 a list of R 维的Tensor堆成 R+1维的Tensor。 \n",
    "Given a list of length N of tensors of shape (A, B, C); \n",
    "if axis == 0 then the output tensor will have the shape (N, A, B, C)\n",
    "\n",
    "这时 res[i,:,:,:] 就是原 list中的第 i 个 tensor\n",
    "1\n",
    ". if axis == 1 then the output tensor will have the shape (A, N, B, C).\n",
    "\n",
    "这时 res[:,i,:,:] 就是原list中的第 i 个 tensor\n",
    "\"\"\"\n",
    "sess = tf.InteractiveSession()\n",
    "A"
   ]
  },
  {
   "cell_type": "code",
   "execution_count": 49,
   "metadata": {
    "collapsed": false
   },
   "outputs": [],
   "source": [
    "D = tf.stack([A,B])\n",
    "D1 = tf.stack([A,B],axis=1)\n",
    "D2 = tf.stack([A,B],axis=2)"
   ]
  },
  {
   "cell_type": "code",
   "execution_count": 50,
   "metadata": {
    "collapsed": false
   },
   "outputs": [
    {
     "data": {
      "text/plain": [
       "array([[[[ 1.  ,  2.  ,  3.  ],\n",
       "         [ 0.1 ,  0.2 ,  0.3 ],\n",
       "         [ 0.01,  0.02,  0.03]],\n",
       "\n",
       "        [[ 1.  ,  2.  ,  3.  ],\n",
       "         [ 0.1 ,  0.2 ,  0.3 ],\n",
       "         [ 0.01,  0.02,  0.03]],\n",
       "\n",
       "        [[ 1.  ,  2.  ,  3.  ],\n",
       "         [ 0.1 ,  0.2 ,  0.3 ],\n",
       "         [ 0.01,  0.02,  0.03]]],\n",
       "\n",
       "\n",
       "       [[[ 4.  ,  5.  ,  6.  ],\n",
       "         [ 0.4 ,  0.5 ,  0.6 ],\n",
       "         [ 0.04,  0.05,  0.06]],\n",
       "\n",
       "        [[ 4.  ,  5.  ,  6.  ],\n",
       "         [ 0.4 ,  0.5 ,  0.6 ],\n",
       "         [ 0.04,  0.05,  0.06]],\n",
       "\n",
       "        [[ 4.  ,  5.  ,  6.  ],\n",
       "         [ 0.4 ,  0.5 ,  0.6 ],\n",
       "         [ 0.04,  0.05,  0.06]]]])"
      ]
     },
     "execution_count": 50,
     "metadata": {},
     "output_type": "execute_result"
    }
   ],
   "source": [
    "D.eval()"
   ]
  },
  {
   "cell_type": "code",
   "execution_count": 51,
   "metadata": {
    "collapsed": false
   },
   "outputs": [
    {
     "data": {
      "text/plain": [
       "array([[[[ 1.  ,  2.  ,  3.  ],\n",
       "         [ 0.1 ,  0.2 ,  0.3 ],\n",
       "         [ 0.01,  0.02,  0.03]],\n",
       "\n",
       "        [[ 4.  ,  5.  ,  6.  ],\n",
       "         [ 0.4 ,  0.5 ,  0.6 ],\n",
       "         [ 0.04,  0.05,  0.06]]],\n",
       "\n",
       "\n",
       "       [[[ 1.  ,  2.  ,  3.  ],\n",
       "         [ 0.1 ,  0.2 ,  0.3 ],\n",
       "         [ 0.01,  0.02,  0.03]],\n",
       "\n",
       "        [[ 4.  ,  5.  ,  6.  ],\n",
       "         [ 0.4 ,  0.5 ,  0.6 ],\n",
       "         [ 0.04,  0.05,  0.06]]],\n",
       "\n",
       "\n",
       "       [[[ 1.  ,  2.  ,  3.  ],\n",
       "         [ 0.1 ,  0.2 ,  0.3 ],\n",
       "         [ 0.01,  0.02,  0.03]],\n",
       "\n",
       "        [[ 4.  ,  5.  ,  6.  ],\n",
       "         [ 0.4 ,  0.5 ,  0.6 ],\n",
       "         [ 0.04,  0.05,  0.06]]]])"
      ]
     },
     "execution_count": 51,
     "metadata": {},
     "output_type": "execute_result"
    }
   ],
   "source": [
    "D1.eval()"
   ]
  },
  {
   "cell_type": "code",
   "execution_count": 52,
   "metadata": {
    "collapsed": false
   },
   "outputs": [
    {
     "data": {
      "text/plain": [
       "array([[[[ 1.  ,  2.  ,  3.  ],\n",
       "         [ 4.  ,  5.  ,  6.  ]],\n",
       "\n",
       "        [[ 0.1 ,  0.2 ,  0.3 ],\n",
       "         [ 0.4 ,  0.5 ,  0.6 ]],\n",
       "\n",
       "        [[ 0.01,  0.02,  0.03],\n",
       "         [ 0.04,  0.05,  0.06]]],\n",
       "\n",
       "\n",
       "       [[[ 1.  ,  2.  ,  3.  ],\n",
       "         [ 4.  ,  5.  ,  6.  ]],\n",
       "\n",
       "        [[ 0.1 ,  0.2 ,  0.3 ],\n",
       "         [ 0.4 ,  0.5 ,  0.6 ]],\n",
       "\n",
       "        [[ 0.01,  0.02,  0.03],\n",
       "         [ 0.04,  0.05,  0.06]]],\n",
       "\n",
       "\n",
       "       [[[ 1.  ,  2.  ,  3.  ],\n",
       "         [ 4.  ,  5.  ,  6.  ]],\n",
       "\n",
       "        [[ 0.1 ,  0.2 ,  0.3 ],\n",
       "         [ 0.4 ,  0.5 ,  0.6 ]],\n",
       "\n",
       "        [[ 0.01,  0.02,  0.03],\n",
       "         [ 0.04,  0.05,  0.06]]]])"
      ]
     },
     "execution_count": 52,
     "metadata": {},
     "output_type": "execute_result"
    }
   ],
   "source": [
    "D2.eval()"
   ]
  },
  {
   "cell_type": "code",
   "execution_count": 112,
   "metadata": {
    "collapsed": false
   },
   "outputs": [
    {
     "data": {
      "text/plain": [
       "(3, 3, 3)"
      ]
     },
     "execution_count": 112,
     "metadata": {},
     "output_type": "execute_result"
    }
   ],
   "source": [
    "X = np.array([[[1,2,3],[4,5,6],[7,8,9]],[[11,12,13],[14,15,16],[17,18,19]],[[21,22,23],[24,25,26],[27,28,29]]])\n",
    "Y = np.array([[[101,102,103],[104,105,106],[107,108,109]],[[111,112,113],[114,115,116],[117,118,119]],[[121,122,123],[124,125,126],[127,128,129]]])\n",
    "Z = tf.stack([X,Y]).eval()\n",
    "X.shape"
   ]
  },
  {
   "cell_type": "code",
   "execution_count": 113,
   "metadata": {
    "collapsed": false
   },
   "outputs": [
    {
     "data": {
      "text/plain": [
       "array([[[[  1,   2,   3],\n",
       "         [  4,   5,   6],\n",
       "         [  7,   8,   9]],\n",
       "\n",
       "        [[ 11,  12,  13],\n",
       "         [ 14,  15,  16],\n",
       "         [ 17,  18,  19]],\n",
       "\n",
       "        [[ 21,  22,  23],\n",
       "         [ 24,  25,  26],\n",
       "         [ 27,  28,  29]]],\n",
       "\n",
       "\n",
       "       [[[101, 102, 103],\n",
       "         [104, 105, 106],\n",
       "         [107, 108, 109]],\n",
       "\n",
       "        [[111, 112, 113],\n",
       "         [114, 115, 116],\n",
       "         [117, 118, 119]],\n",
       "\n",
       "        [[121, 122, 123],\n",
       "         [124, 125, 126],\n",
       "         [127, 128, 129]]]])"
      ]
     },
     "execution_count": 113,
     "metadata": {},
     "output_type": "execute_result"
    }
   ],
   "source": [
    "Z"
   ]
  },
  {
   "cell_type": "code",
   "execution_count": 114,
   "metadata": {
    "collapsed": false
   },
   "outputs": [],
   "source": [
    "y = tf.transpose(Z,perm=[1,2,3,0]).eval()"
   ]
  },
  {
   "cell_type": "code",
   "execution_count": 115,
   "metadata": {
    "collapsed": false
   },
   "outputs": [
    {
     "data": {
      "text/plain": [
       "(3, 3, 3, 2)"
      ]
     },
     "execution_count": 115,
     "metadata": {},
     "output_type": "execute_result"
    }
   ],
   "source": [
    "y.shape"
   ]
  },
  {
   "cell_type": "code",
   "execution_count": 116,
   "metadata": {
    "collapsed": false
   },
   "outputs": [
    {
     "data": {
      "text/plain": [
       "array([[[[  1, 101],\n",
       "         [  2, 102],\n",
       "         [  3, 103]],\n",
       "\n",
       "        [[  4, 104],\n",
       "         [  5, 105],\n",
       "         [  6, 106]],\n",
       "\n",
       "        [[  7, 107],\n",
       "         [  8, 108],\n",
       "         [  9, 109]]],\n",
       "\n",
       "\n",
       "       [[[ 11, 111],\n",
       "         [ 12, 112],\n",
       "         [ 13, 113]],\n",
       "\n",
       "        [[ 14, 114],\n",
       "         [ 15, 115],\n",
       "         [ 16, 116]],\n",
       "\n",
       "        [[ 17, 117],\n",
       "         [ 18, 118],\n",
       "         [ 19, 119]]],\n",
       "\n",
       "\n",
       "       [[[ 21, 121],\n",
       "         [ 22, 122],\n",
       "         [ 23, 123]],\n",
       "\n",
       "        [[ 24, 124],\n",
       "         [ 25, 125],\n",
       "         [ 26, 126]],\n",
       "\n",
       "        [[ 27, 127],\n",
       "         [ 28, 128],\n",
       "         [ 29, 129]]]])"
      ]
     },
     "execution_count": 116,
     "metadata": {},
     "output_type": "execute_result"
    }
   ],
   "source": [
    "y"
   ]
  },
  {
   "cell_type": "code",
   "execution_count": null,
   "metadata": {
    "collapsed": false
   },
   "outputs": [],
   "source": [
    ""
   ]
  },
  {
   "cell_type": "code",
   "execution_count": null,
   "metadata": {
    "collapsed": false
   },
   "outputs": [],
   "source": [
    ""
   ]
  },
  {
   "cell_type": "code",
   "execution_count": null,
   "metadata": {
    "collapsed": false
   },
   "outputs": [],
   "source": [
    ""
   ]
  },
  {
   "cell_type": "code",
   "execution_count": null,
   "metadata": {
    "collapsed": false
   },
   "outputs": [],
   "source": [
    ""
   ]
  },
  {
   "cell_type": "code",
   "execution_count": null,
   "metadata": {
    "collapsed": true
   },
   "outputs": [],
   "source": [
    ""
   ]
  }
 ],
 "metadata": {
  "kernelspec": {
   "display_name": "Python 3",
   "language": "python",
   "name": "python3"
  },
  "language_info": {
   "codemirror_mode": {
    "name": "ipython",
    "version": 3.0
   },
   "file_extension": ".py",
   "mimetype": "text/x-python",
   "name": "python",
   "nbconvert_exporter": "python",
   "pygments_lexer": "ipython3",
   "version": "3.5.1"
  }
 },
 "nbformat": 4,
 "nbformat_minor": 0
}