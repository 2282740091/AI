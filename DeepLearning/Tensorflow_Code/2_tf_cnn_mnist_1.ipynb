{
 "cells": [
  {
   "cell_type": "code",
   "execution_count": 4,
   "metadata": {
    "collapsed": false,
    "deletable": true,
    "editable": true
   },
   "outputs": [
    {
     "name": "stdout",
     "output_type": "stream",
     "text": [
      "Extracting ./mnist/train-images-idx3-ubyte.gz\n",
      "Extracting ./mnist/train-labels-idx1-ubyte.gz\n",
      "Extracting ./mnist/t10k-images-idx3-ubyte.gz\n",
      "Extracting ./mnist/t10k-labels-idx1-ubyte.gz\n"
     ]
    }
   ],
   "source": [
    "from tensorflow.examples.tutorials.mnist import input_data\n",
    "mnist = input_data.read_data_sets(\"./mnist/\", one_hot=True)\n",
    "\n",
    "import tensorflow as tf\n",
    "\n",
    "# Parameters\n",
    "learning_rate = 0.001\n",
    "training_epochs = 30\n",
    "batch_size = 100\n",
    "display_step = 1\n",
    "\n",
    "# Network Parameters\n",
    "n_input = 784 # MNIST data input (img shape: 28*28)\n",
    "n_classes = 10 # MNIST total classes (0-9 digits)\n",
    "\n",
    "# tf Graph input\n",
    "x = tf.placeholder(\"float\", [None, n_input])\n",
    "y = tf.placeholder(\"float\", [None, n_classes])"
   ]
  },
  {
   "cell_type": "code",
   "execution_count": 5,
   "metadata": {
    "collapsed": true,
    "deletable": true,
    "editable": true
   },
   "outputs": [],
   "source": [
    "#pre-define the  \n",
    "def conv2d(x, W):\n",
    "  return tf.nn.conv2d(x, W, strides=[1, 1, 1, 1], padding='SAME')\n",
    "\n",
    "def max_pool_2x2(x):\n",
    "  return tf.nn.max_pool(x, ksize=[1, 2, 2, 1],\n",
    "                        strides=[1, 2, 2, 1], padding='SAME')"
   ]
  },
  {
   "cell_type": "code",
   "execution_count": 6,
   "metadata": {
    "collapsed": true,
    "deletable": true,
    "editable": true
   },
   "outputs": [],
   "source": [
    "def multilayer_perceptron(x, weights, biases):\n",
    "    #now, we want to change this to a CNN network\n",
    "\n",
    "    #first reshape the data to 4-D\n",
    "\n",
    "    x_image = tf.reshape(x, [-1,28,28,1])\n",
    "\n",
    "    #then apply cnn layers\n",
    "\n",
    "    h_conv1 = tf.nn.relu(conv2d(x_image, weights['conv1']) + biases['conv_b1'])\n",
    "    h_pool1 = max_pool_2x2(h_conv1)\n",
    "\n",
    "    h_conv2 = tf.nn.relu(conv2d(h_pool1, weights['conv2']) + biases['conv_b2'])\n",
    "    h_pool2 = max_pool_2x2(h_conv2)\n",
    "\n",
    "    h_pool2_flat = tf.reshape(h_pool2, [-1, 7*7*64])\n",
    "    h_fc1 = tf.nn.relu(tf.matmul(h_pool2_flat, weights['fc1']) + biases['fc1_b'])\n",
    "\n",
    "\n",
    "    # Output layer with linear activation\n",
    "    out_layer = tf.matmul(h_fc1, weights['out']) + biases['out_b']\n",
    "    return out_layer"
   ]
  },
  {
   "cell_type": "code",
   "execution_count": 7,
   "metadata": {
    "collapsed": true
   },
   "outputs": [],
   "source": [
    "# Store layers weight & biases\n",
    "weights = {\n",
    "    'conv1': tf.Variable(tf.random_normal([5, 5, 1, 32])),\n",
    "    'conv2': tf.Variable(tf.random_normal([5, 5, 32, 64])),\n",
    "    'fc1' : tf.Variable(tf.random_normal([7*7*64,256])),\n",
    "    'out': tf.Variable(tf.random_normal([256,n_classes]))\n",
    "}\n",
    "biases = {\n",
    "    'conv_b1': tf.Variable(tf.random_normal([32])),\n",
    "    'conv_b2': tf.Variable(tf.random_normal([64])),\n",
    "    'fc1_b': tf.Variable(tf.random_normal([256])),\n",
    "    'out_b': tf.Variable(tf.random_normal([n_classes]))\n",
    "}\n",
    "\n",
    "# Construct model\n",
    "pred = multilayer_perceptron(x, weights, biases)\n",
    "\n",
    "# Define loss and optimizer\n",
    "cost = tf.reduce_mean(tf.nn.softmax_cross_entropy_with_logits(logits=pred, labels=y))\n",
    "optimizer = tf.train.AdamOptimizer(learning_rate=learning_rate).minimize(cost)\n",
    "\n",
    "# Initializing the variables\n",
    "init = tf.global_variables_initializer()"
   ]
  },
  {
   "cell_type": "code",
   "execution_count": 8,
   "metadata": {
    "collapsed": false
   },
   "outputs": [
    {
     "name": "stdout",
     "output_type": "stream",
     "text": [
      "Epoch: 0001 cost= 2060.940834697\n",
      "Epoch: 0002 cost= 348.598410048\n",
      "Epoch: 0003 cost= 218.649808456\n",
      "Epoch: 0004 cost= 153.140654579\n",
      "Epoch: 0005 cost= 113.412750424\n",
      "Epoch: 0006 cost= 87.045840318\n",
      "Epoch: 0007 cost= 65.573745302\n",
      "Epoch: 0008 cost= 56.251549130\n",
      "Epoch: 0009 cost= 43.123139219\n",
      "Epoch: 0010 cost= 34.458510148\n",
      "Epoch: 0011 cost= 26.303392332\n",
      "Epoch: 0012 cost= 23.573194039\n",
      "Epoch: 0013 cost= 19.396261774\n",
      "Epoch: 0014 cost= 15.620600527\n",
      "Epoch: 0015 cost= 14.142057670\n",
      "Epoch: 0016 cost= 11.759077084\n",
      "Epoch: 0017 cost= 11.077828328\n",
      "Epoch: 0018 cost= 9.151018064\n",
      "Epoch: 0019 cost= 9.730695378\n",
      "Epoch: 0020 cost= 7.318476500\n",
      "Epoch: 0021 cost= 6.362946370\n",
      "Epoch: 0022 cost= 5.988710408\n",
      "Epoch: 0023 cost= 5.499490126\n",
      "Epoch: 0024 cost= 5.562759384\n",
      "Epoch: 0025 cost= 4.703799298\n",
      "Epoch: 0026 cost= 5.210501783\n",
      "Epoch: 0027 cost= 4.366963795\n",
      "Epoch: 0028 cost= 3.857658513\n",
      "Epoch: 0029 cost= 5.263424460\n",
      "Epoch: 0030 cost= 3.126432585\n",
      "Optimization Finished!\n",
      "Accuracy: 0.9843\n"
     ]
    }
   ],
   "source": [
    "# Launch the graph\n",
    "with tf.Session() as sess:\n",
    "    sess.run(init)\n",
    "\n",
    "    # Training cycle\n",
    "    for epoch in range(training_epochs):\n",
    "        avg_cost = 0.\n",
    "        total_batch = int(mnist.train.num_examples/batch_size)\n",
    "        # Loop over all batches\n",
    "        for i in range(total_batch):\n",
    "            batch_x, batch_y = mnist.train.next_batch(batch_size)\n",
    "            # Run optimization op (backprop) and cost op (to get loss value)\n",
    "            _, c = sess.run([optimizer, cost], feed_dict={x: batch_x,\n",
    "                                                          y: batch_y})\n",
    "            # Compute average loss\n",
    "            avg_cost += c / total_batch\n",
    "        # Display logs per epoch step\n",
    "        if epoch % display_step == 0:\n",
    "            print(\"Epoch:\", '%04d' % (epoch+1), \"cost=\", \\\n",
    "                \"{:.9f}\".format(avg_cost))\n",
    "    print(\"Optimization Finished!\")\n",
    "\n",
    "    # Test model\n",
    "    correct_prediction = tf.equal(tf.argmax(pred, 1), tf.argmax(y, 1))\n",
    "    # Calculate accuracy\n",
    "    accuracy = tf.reduce_mean(tf.cast(correct_prediction, \"float\"))\n",
    "    print(\"Accuracy:\", accuracy.eval({x: mnist.test.images, y: mnist.test.labels}))"
   ]
  },
  {
   "cell_type": "code",
   "execution_count": null,
   "metadata": {
    "collapsed": true
   },
   "outputs": [],
   "source": []
  }
 ],
 "metadata": {
  "kernelspec": {
   "display_name": "Python 3",
   "language": "python",
   "name": "python3"
  },
  "language_info": {
   "codemirror_mode": {
    "name": "ipython",
    "version": 3
   },
   "file_extension": ".py",
   "mimetype": "text/x-python",
   "name": "python",
   "nbconvert_exporter": "python",
   "pygments_lexer": "ipython3",
   "version": "3.5.1"
  }
 },
 "nbformat": 4,
 "nbformat_minor": 0
}
