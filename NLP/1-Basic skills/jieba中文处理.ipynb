{
 "cells": [
  {
   "cell_type": "markdown",
   "metadata": {},
   "source": [
    "## jieba中文处理\n",
    "\n",
    "和拉丁语系不同，亚洲语言是不用空格分开每个有意义的词的。而当我们进行自然语言处理的时候，大部分情况下，词汇是我们对句子和文章理解的基础，因此需要一个工具去把完整的文本中分解成粒度更细的词。\n",
    "jieba就是这样一个非常好用的中文工具，是以分词起家的，但是功能比分词要强大很多。\n",
    "### 基本分词函数与用法\n",
    "**jieba.cut** 以及 **jieba.cut_for_search** 返回的结构都是一个可迭代的 generator，可以使用 for 循环来获得分词后得到的每一个词语(unicode)\n",
    "\n",
    "**jieba.cut** 方法接受三个输入参数:\n",
    "- 需要分词的字符串\n",
    "- cut_all 参数用来控制是否采用全模式\n",
    "- HMM 参数用来控制是否使用 HMM 模型\n",
    "\n",
    "**jieba.cut_for_search** 方法接受两个参数\n",
    "- 需要分词的字符串\n",
    "- 是否使用 HMM 模型。\n",
    "- 该方法适合用于搜索引擎构建倒排索引的分词，粒度比较细"
   ]
  },
  {
   "cell_type": "code",
   "execution_count": 28,
   "metadata": {},
   "outputs": [
    {
     "name": "stdout",
     "output_type": "stream",
     "text": [
      "<generator object Tokenizer.cut at 0x10cadd990>\n",
      "Full mode我/在/学习/自然/自然语言/语言/处理/计算/计算机/算机/视觉\n",
      "Default mode我/在/学习/自然语言/处理/，/计算机/视觉\n",
      "小明/硕士/毕业/于/中国/科学/学院/科学院/中国科学院/计算/计算所/，/后/在/哈佛/大学/哈佛大学/深造\n",
      "科比/巅峰/时/到底/能/不能/虐/詹姆斯/，/这/不是/问题\n"
     ]
    }
   ],
   "source": [
    "# encoding=utf-8\n",
    "import jieba\n",
    "cut_list = jieba.cut(\"我在学习自然语言处理计算机视觉\",cut_all=True) #全模式\n",
    "print(cut_list)\n",
    "print(\"Full mode\" + '/'.join(cut_list))\n",
    "cut_list_1 = jieba.cut(\"我在学习自然语言处理，计算机视觉\",cut_all=False) #精确模式，默认是精确模式\n",
    "print(\"Default mode\" + '/'.join(cut_list_1))\n",
    "cut_list_2 = jieba.cut_for_search(\"小明硕士毕业于中国科学院计算所，后在哈佛大学深造\") #搜索引擎模式\n",
    "print('/'.join(cut_list_2))\n",
    "cut_list_2 = jieba.cut_for_search(\"科比巅峰时到底能不能虐詹姆斯，这不是问题\") #搜索引擎模式\n",
    "print('/'.join(cut_list_2))"
   ]
  },
  {
   "cell_type": "markdown",
   "metadata": {},
   "source": [
    "**jieba.lcut**以及**jieba.lcut_for_search**直接返回 list"
   ]
  },
  {
   "cell_type": "code",
   "execution_count": 29,
   "metadata": {},
   "outputs": [
    {
     "name": "stdout",
     "output_type": "stream",
     "text": [
      "['小明', '硕士', '毕业', '于', '中国科学院', '计算所', '，', '后', '在', '哈佛大学', '深造']\n",
      "小明 硕士 毕业 于 中国科学院 计算所 ， 后 在 哈佛大学 深造\n",
      "小明 硕士 毕业 于 中国 科学 学院 科学院 中国科学院 计算 计算所 ， 后 在 哈佛 大学 哈佛大学 深造\n"
     ]
    }
   ],
   "source": [
    "result_lcut = jieba.lcut(\"小明硕士毕业于中国科学院计算所，后在哈佛大学深造\")\n",
    "print(result_lcut)\n",
    "print(\" \".join(result_lcut))\n",
    "print(\" \".join(jieba.lcut_for_search(\"小明硕士毕业于中国科学院计算所，后在哈佛大学深造\")))"
   ]
  },
  {
   "cell_type": "markdown",
   "metadata": {},
   "source": [
    "### 添加用户自定义词典\n",
    "很多时候我们需要针对自己的场景进行分词，会有一些领域内的专有词汇。\n",
    "- 1.可以用jieba.load_userdict(file_name)加载用户字典\n",
    "- 2.少量的词汇可以自己用下面方法手动添加：\n",
    "  - 用 add_word(word, freq=None, tag=None) 和 del_word(word) 在程序中动态修改词典\n",
    "  - 用 suggest_freq(segment, tune=True) 可调节单个词语的词频，使其能（或不能）被分出来。"
   ]
  },
  {
   "cell_type": "code",
   "execution_count": 30,
   "metadata": {},
   "outputs": [
    {
     "name": "stdout",
     "output_type": "stream",
     "text": [
      "如果/放到/旧/字典/中将/出错/。\n"
     ]
    }
   ],
   "source": [
    "print('/'.join(jieba.cut('如果放到旧字典中将出错。', HMM=False)))"
   ]
  },
  {
   "cell_type": "code",
   "execution_count": 31,
   "metadata": {},
   "outputs": [
    {
     "data": {
      "text/plain": [
       "494"
      ]
     },
     "execution_count": 31,
     "metadata": {},
     "output_type": "execute_result"
    }
   ],
   "source": [
    "jieba.suggest_freq(('中', '将'), True)"
   ]
  },
  {
   "cell_type": "code",
   "execution_count": 32,
   "metadata": {},
   "outputs": [
    {
     "name": "stdout",
     "output_type": "stream",
     "text": [
      "如果/放到/旧/字典/中/将/出错/。\n"
     ]
    }
   ],
   "source": [
    "print('/'.join(jieba.cut('如果放到旧字典中将出错。', HMM=False)))"
   ]
  },
  {
   "cell_type": "markdown",
   "metadata": {},
   "source": [
    "### 并行分词\n",
    "原理：将目标文本按行分隔后，把各行文本分配到多个 Python 进程并行分词，然后归并结果，从而获得分词速度的可观提升 基于 python 自带的 multiprocessing 模块，(是否支持windows待验证)\n",
    "\n",
    "用法：\n",
    "   jieba.enable_parallel(4) # 开启并行分词模式，参数为并行进程数\n",
    "   jieba.disable_parallel() # 关闭并行分词模式\n",
    "\n",
    "实验结果：在 4 核 3.4GHz Linux 机器上，对金庸全集进行精确分词，获得了 1MB/s 的速度，是单进程版的 3.3 倍。\n",
    "\n",
    "注意：并行分词仅支持默认分词器 jieba.dt 和 jieba.posseg.dt"
   ]
  },
  {
   "cell_type": "code",
   "execution_count": 53,
   "metadata": {},
   "outputs": [
    {
     "name": "stdout",
     "output_type": "stream",
     "text": [
      "并行分词速度为 240343.8391779829 bytes/second\n",
      "非并行分词速度为 185585.00661728394 bytes/second\n"
     ]
    }
   ],
   "source": [
    "import sys\n",
    "import time\n",
    "import jieba\n",
    "\n",
    "jieba.enable_parallel()\n",
    "content = open(u'人工智能火了-人类有些尴尬了.txt',\"r\").read()\n",
    "t1 = time.time()\n",
    "words = \"/ \".join(jieba.cut(content))\n",
    "t2 = time.time()\n",
    "tm_cost = t2-t1\n",
    "print('并行分词速度为 %s bytes/second' % (len(content)/tm_cost))\n",
    "\n",
    "jieba.disable_parallel()\n",
    "content = open(u'人工智能火了-人类有些尴尬了.txt',\"r\").read()\n",
    "t1 = time.time()\n",
    "words = \"/ \".join(jieba.cut(content))\n",
    "t2 = time.time()\n",
    "tm_cost = t2-t1\n",
    "print('非并行分词速度为 %s bytes/second' % (len(content)/tm_cost))"
   ]
  },
  {
   "cell_type": "markdown",
   "metadata": {},
   "source": [
    "### 关键词提取¶\n",
    "#### 基于 TF-IDF 算法的关键词抽取\n",
    "import jieba.analyse\n",
    " - jieba.analyse.extract_tags(sentence, topK=20, withWeight=False, allowPOS=())\n",
    "   - sentence 为待提取的文本\n",
    "   - topK 为返回几个 TF/IDF 权重最大的关键词，默认值为 20\n",
    "   - withWeight 为是否一并返回关键词权重值，默认值为 False\n",
    "   - allowPOS 仅包括指定词性的词，默认值为空，即不筛选"
   ]
  },
  {
   "cell_type": "code",
   "execution_count": 46,
   "metadata": {},
   "outputs": [
    {
     "name": "stdout",
     "output_type": "stream",
     "text": [
      "<class 'str'>\n",
      "人工智能 人类 伦理 法律 张钹 真真 索菲亚 隐私 学习 人机 AlphaGo 系统 智能 机器 深度\n"
     ]
    }
   ],
   "source": [
    "import jieba.analyse as analyse\n",
    "lines = open('人工智能火了-人类有些尴尬了.txt').read()\n",
    "print(type(lines))\n",
    "seg_list = analyse.extract_tags(lines,topK=15,withWeight=False,allowPOS=())\n",
    "#print(seg_list)\n",
    "text = \" \".join(seg_list)\n",
    "print(text)"
   ]
  },
  {
   "cell_type": "markdown",
   "metadata": {},
   "source": [
    "#### 关于TF-IDF 算法的关键词抽取补充\n",
    "- 关键词提取所使用逆向文件频率（IDF）文本语料库可以切换成自定义语料库的路径\n",
    "  - 用法： jieba.analyse.set_idf_path(file_name) # file_name为自定义语料库的路径\n",
    "- 关键词提取所使用停止词（Stop Words）文本语料库可以切换成自定义语料库的路径\n",
    "  - 用法： jieba.analyse.set_stop_words(file_name) # file_name为自定义语料库的路径"
   ]
  },
  {
   "cell_type": "markdown",
   "metadata": {},
   "source": [
    "#### 基于 TextRank 算法的关键词抽取¶\n",
    "- jieba.analyse.textrank(sentence, topK=20, withWeight=False, allowPOS=('ns', 'n', 'vn', 'v')) 直接使用，接口相同，注意默认过滤词性。\n",
    "- jieba.analyse.TextRank() 新建自定义 TextRank 实例\n",
    "##### 基本思想:\n",
    "- 将待抽取关键词的文本进行分词\n",
    "- 以固定窗口大小(默认为5，通过span属性调整)，词之间的共现关系，构建图\n",
    "- 计算图中节点的PageRank，注意是无向带权图"
   ]
  },
  {
   "cell_type": "code",
   "execution_count": 50,
   "metadata": {},
   "outputs": [
    {
     "name": "stdout",
     "output_type": "stream",
     "text": [
      "人工智能  人类  法律  伦理  系统  学习  发展  机器  智能  问题  存在  科学  没有  技术  深度  人机  带来  概念  不可  使用\n",
      "---------------------我是分割线----------------\n",
      "人工智能  人类  法律  伦理  系统  机器  智能  科学  结果  问题  概念  技术  深度  规范  科技  产业界  方法  人机  目标  上学\n"
     ]
    }
   ],
   "source": [
    "import jieba.analyse as analyse\n",
    "lines = open('人工智能火了-人类有些尴尬了.txt').read()\n",
    "print(\"  \".join(analyse.textrank(lines, topK=20, withWeight=False, allowPOS=('ns', 'n', 'vn', 'v'))))\n",
    "print(\"---------------------我是分割线----------------\")\n",
    "print(\"  \".join(analyse.textrank(lines, topK=20, withWeight=False, allowPOS=('ns', 'n'))))"
   ]
  },
  {
   "cell_type": "markdown",
   "metadata": {},
   "source": [
    "### 词性标注\n",
    "- jieba.posseg.POSTokenizer(tokenizer=None) 新建自定义分词器，tokenizer 参数可指定内部使用的 jieba.Tokenizer 分词器。jieba.posseg.dt 为默认词性标注分词器。\n",
    "- 标注句子分词后每个词的词性，采用和 ictclas 兼容的标记法。\n",
    "- 具体的词性对照表参见计算所汉语词性标记集"
   ]
  },
  {
   "cell_type": "code",
   "execution_count": 52,
   "metadata": {},
   "outputs": [
    {
     "name": "stdout",
     "output_type": "stream",
     "text": [
      "<generator object cut at 0x111680eb8>\n",
      "我 r\n",
      "爱 v\n",
      "人工智能 n\n"
     ]
    }
   ],
   "source": [
    "import jieba.posseg as pseg\n",
    "words = pseg.cut(\"我爱人工智能\")\n",
    "print(words)\n",
    "for word,flag in words:\n",
    "    print(\"%s %s\" % (word,flag))"
   ]
  },
  {
   "cell_type": "markdown",
   "metadata": {},
   "source": [
    "### Tokenize：返回词语在原文的起止位置\n",
    "注意，输入参数只接受 unicode"
   ]
  },
  {
   "cell_type": "code",
   "execution_count": 57,
   "metadata": {},
   "outputs": [
    {
     "name": "stdout",
     "output_type": "stream",
     "text": [
      "这是默认模式的tokenize\n",
      "自然语言\t\t start: 0 \t\t end:4\n",
      "处理\t\t start: 4 \t\t end:6\n",
      "非常\t\t start: 6 \t\t end:8\n",
      "有用\t\t start: 8 \t\t end:10\n",
      "\n",
      "-----------我是神奇的分割线------------\n",
      "\n",
      "这是搜索模式的tokenize\n",
      "自然\t\t start: 0 \t\t end:2\n",
      "语言\t\t start: 2 \t\t end:4\n",
      "自然语言\t\t start: 0 \t\t end:4\n",
      "处理\t\t start: 4 \t\t end:6\n",
      "非常\t\t start: 6 \t\t end:8\n",
      "有用\t\t start: 8 \t\t end:10\n"
     ]
    }
   ],
   "source": [
    "print(\"这是默认模式的tokenize\")\n",
    "result = jieba.tokenize(u'自然语言处理非常有用')\n",
    "for tk in result:\n",
    "    print(\"%s\\t\\t start: %d \\t\\t end:%d\" % (tk[0],tk[1],tk[2]))\n",
    "\n",
    "print(u\"\\n-----------我是神奇的分割线------------\\n\")\n",
    "\n",
    "print(\"这是搜索模式的tokenize\")\n",
    "result = jieba.tokenize(u'自然语言处理非常有用', mode='search')\n",
    "for tk in result:\n",
    "    print(\"%s\\t\\t start: %d \\t\\t end:%d\" % (tk[0],tk[1],tk[2]))"
   ]
  },
  {
   "cell_type": "markdown",
   "metadata": {},
   "source": [
    "### ChineseAnalyzer for Whoosh 搜索引擎\n",
    "from jieba.analyse import ChineseAnalyzer\n",
    "待验证"
   ]
  },
  {
   "cell_type": "code",
   "execution_count": null,
   "metadata": {
    "collapsed": true
   },
   "outputs": [],
   "source": [
    "命令行分词\n",
    "使用示例：python -m jieba news.txt > cut_result.txt\n",
    "命令行选项（翻译）：\n",
    "使用: python -m jieba [options] filename\n",
    "\n",
    "结巴命令行界面。\n",
    "\n",
    "固定参数:\n",
    "  filename              输入文件\n",
    "\n",
    "可选参数:\n",
    "  -h, --help            显示此帮助信息并退出\n",
    "  -d [DELIM], --delimiter [DELIM]\n",
    "                        使用 DELIM 分隔词语，而不是用默认的' / '。\n",
    "                        若不指定 DELIM，则使用一个空格分隔。\n",
    "  -p [DELIM], --pos [DELIM]\n",
    "                        启用词性标注；如果指定 DELIM，词语和词性之间\n",
    "                        用它分隔，否则用 _ 分隔\n",
    "  -D DICT, --dict DICT  使用 DICT 代替默认词典\n",
    "  -u USER_DICT, --user-dict USER_DICT\n",
    "                        使用 USER_DICT 作为附加词典，与默认词典或自定义词典配合使用\n",
    "  -a, --cut-all         全模式分词（不支持词性标注）\n",
    "  -n, --no-hmm          不使用隐含马尔可夫模型\n",
    "  -q, --quiet           不输出载入信息到 STDERR\n",
    "  -V, --version         显示版本信息并退出\n",
    "\n",
    "如果没有指定文件名，则使用标准输入。\n",
    "\n",
    "--help 选项输出：\n",
    "$> python -m jieba --help\n",
    "Jieba command line interface.\n",
    "\n",
    "positional arguments:\n",
    "  filename              input file\n",
    "\n",
    "optional arguments:\n",
    "  -h, --help            show this help message and exit\n",
    "  -d [DELIM], --delimiter [DELIM]\n",
    "                        use DELIM instead of ' / ' for word delimiter; or a\n",
    "                        space if it is used without DELIM\n",
    "  -p [DELIM], --pos [DELIM]\n",
    "                        enable POS tagging; if DELIM is specified, use DELIM\n",
    "                        instead of '_' for POS delimiter\n",
    "  -D DICT, --dict DICT  use DICT as dictionary\n",
    "  -u USER_DICT, --user-dict USER_DICT\n",
    "                        use USER_DICT together with the default dictionary or\n",
    "                        DICT (if specified)\n",
    "  -a, --cut-all         full pattern cutting (ignored with POS tagging)\n",
    "  -n, --no-hmm          don't use the Hidden Markov Model\n",
    "  -q, --quiet           don't print loading messages to stderr\n",
    "  -V, --version         show program's version number and exit\n",
    "\n",
    "If no filename specified, use STDIN instead."
   ]
  }
 ],
 "metadata": {
  "kernelspec": {
   "display_name": "Python 3",
   "language": "python",
   "name": "python3"
  },
  "language_info": {
   "codemirror_mode": {
    "name": "ipython",
    "version": 3
   },
   "file_extension": ".py",
   "mimetype": "text/x-python",
   "name": "python",
   "nbconvert_exporter": "python",
   "pygments_lexer": "ipython3",
   "version": "3.6.3"
  }
 },
 "nbformat": 4,
 "nbformat_minor": 2
}
